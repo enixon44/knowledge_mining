{
 "cells": [
  {
   "cell_type": "code",
   "execution_count": 24,
   "source": [
    "import requests\r\n",
    "import json\r\n",
    "\r\n",
    "url = \"https://qamaker2021.azurewebsites.net/qnamaker/knowledgebases/e16d00fa-74f9-453b-bb49-861108f74576/generateAnswer\"\r\n",
    "\r\n",
    "payload = \"{'question':'How can I cancel my reservation?'}\"\r\n",
    "headers = {\r\n",
    "  'Authorization': 'EndpointKey 014b5718-1aa5-4980-b08f-0cbedb9d62a4',\r\n",
    "  'Content-Type': 'application/json',\r\n",
    "  'Cookie': 'ARRAffinity=2bd31e84ea0f19c15dd402e7a497a7675b0400bcd5ce5ea73b2f33494c77e44f; ARRAffinitySameSite=2bd31e84ea0f19c15dd402e7a497a7675b0400bcd5ce5ea73b2f33494c77e44f'\r\n",
    "}\r\n",
    "\r\n",
    "response = requests.request(\"POST\", url, headers=headers, data=payload)\r\n",
    "\r\n",
    "print(response.text)"
   ],
   "outputs": [
    {
     "output_type": "stream",
     "name": "stdout",
     "text": [
      "{\"answers\":[{\"questions\":[\"Canceling a Flight or Hotel\",\"How can I cancel my hotel reservation?\"],\"answer\":\"**Canceling a Flight or Hotel**\\n\\nYou can cancel a flight or hotel anytime up to 24 hours before check-in. A cancellation fee may apply. Call us on 555 123 456; or visit our website: [www.margiestravel.com](http://www.margiestravel.com) .\",\"score\":95.0,\"id\":97,\"source\":\"Margies Travel FAQ.docx\",\"isDocumentText\":false,\"metadata\":[],\"context\":{\"isContextOnly\":false,\"prompts\":[]}}],\"activeLearningEnabled\":false}\n"
     ]
    }
   ],
   "metadata": {}
  },
  {
   "cell_type": "code",
   "execution_count": null,
   "source": [
    "import os\r\n",
    "from azure.core.credentials import AzureKeyCredential\r\n",
    "from azure.search.documents import SearchClient\r\n",
    "\r\n",
    "index_name = \"nycjobs\"\r\n",
    "# Get the service endpoint and API key from the environment\r\n",
    "endpoint = os.environ[\"SEARCH_ENDPOINT\"]\r\n",
    "key = os.environ[\"SEARCH_API_KEY\"]\r\n",
    "\r\n",
    "# Create a client\r\n",
    "credential = AzureKeyCredential(key)\r\n",
    "client = SearchClient(endpoint=endpoint,\r\n",
    "                      index_name=index_name,\r\n",
    "                      credential=credential)"
   ],
   "outputs": [],
   "metadata": {}
  },
  {
   "cell_type": "code",
   "execution_count": null,
   "source": [
    "import os\r\n",
    "from azure.core.credentials import AzureKeyCredential\r\n",
    "from azure.search.documents import SearchClient\r\n",
    "\r\n",
    "index_name = \"nycjobs\"\r\n",
    "# Get the service endpoint and API key from the environment\r\n",
    "endpoint = os.environ[\"SEARCH_ENDPOINT\"]\r\n",
    "key = os.environ[\"SEARCH_API_KEY\"]\r\n",
    "\r\n",
    "# Create a client\r\n",
    "credential = AzureKeyCredential(key)\r\n",
    "client = SearchClient(endpoint=endpoint,\r\n",
    "                      index_name=index_name,\r\n",
    "                      credential=credential)"
   ],
   "outputs": [],
   "metadata": {}
  },
  {
   "cell_type": "code",
   "execution_count": 27,
   "source": [
    "endpoint = os.environ[\"https://hackergroup9.search.windows.net\"]"
   ],
   "outputs": [
    {
     "output_type": "error",
     "ename": "KeyError",
     "evalue": "'https://hackergroup9.search.windows.net'",
     "traceback": [
      "\u001b[1;31m---------------------------------------------------------------------------\u001b[0m",
      "\u001b[1;31mKeyError\u001b[0m                                  Traceback (most recent call last)",
      "\u001b[1;32m<ipython-input-27-147fc7a3df63>\u001b[0m in \u001b[0;36m<module>\u001b[1;34m\u001b[0m\n\u001b[1;32m----> 1\u001b[1;33m \u001b[0mendpoint\u001b[0m \u001b[1;33m=\u001b[0m \u001b[0mos\u001b[0m\u001b[1;33m.\u001b[0m\u001b[0menviron\u001b[0m\u001b[1;33m[\u001b[0m\u001b[1;34m\"https://hackergroup9.search.windows.net\"\u001b[0m\u001b[1;33m]\u001b[0m\u001b[1;33m\u001b[0m\u001b[1;33m\u001b[0m\u001b[0m\n\u001b[0m",
      "\u001b[1;32m~\\Anaconda3\\lib\\os.py\u001b[0m in \u001b[0;36m__getitem__\u001b[1;34m(self, key)\u001b[0m\n\u001b[0;32m    673\u001b[0m         \u001b[1;32mexcept\u001b[0m \u001b[0mKeyError\u001b[0m\u001b[1;33m:\u001b[0m\u001b[1;33m\u001b[0m\u001b[1;33m\u001b[0m\u001b[0m\n\u001b[0;32m    674\u001b[0m             \u001b[1;31m# raise KeyError with the original key value\u001b[0m\u001b[1;33m\u001b[0m\u001b[1;33m\u001b[0m\u001b[1;33m\u001b[0m\u001b[0m\n\u001b[1;32m--> 675\u001b[1;33m             \u001b[1;32mraise\u001b[0m \u001b[0mKeyError\u001b[0m\u001b[1;33m(\u001b[0m\u001b[0mkey\u001b[0m\u001b[1;33m)\u001b[0m \u001b[1;32mfrom\u001b[0m \u001b[1;32mNone\u001b[0m\u001b[1;33m\u001b[0m\u001b[1;33m\u001b[0m\u001b[0m\n\u001b[0m\u001b[0;32m    676\u001b[0m         \u001b[1;32mreturn\u001b[0m \u001b[0mself\u001b[0m\u001b[1;33m.\u001b[0m\u001b[0mdecodevalue\u001b[0m\u001b[1;33m(\u001b[0m\u001b[0mvalue\u001b[0m\u001b[1;33m)\u001b[0m\u001b[1;33m\u001b[0m\u001b[1;33m\u001b[0m\u001b[0m\n\u001b[0;32m    677\u001b[0m \u001b[1;33m\u001b[0m\u001b[0m\n",
      "\u001b[1;31mKeyError\u001b[0m: 'https://hackergroup9.search.windows.net'"
     ]
    }
   ],
   "metadata": {}
  },
  {
   "cell_type": "code",
   "execution_count": 29,
   "source": [
    "import os\r\n",
    "from azure.core.credentials import AzureKeyCredential\r\n",
    "from azure.search.documents.indexes import SearchIndexClient\r\n",
    "from azure.search.documents.indexes.models import ( \r\n",
    "    ComplexField, \r\n",
    "    CorsOptions, \r\n",
    "    SearchIndex, \r\n",
    "    ScoringProfile, \r\n",
    "    SearchFieldDataType, \r\n",
    "    SimpleField, \r\n",
    "    SearchableField \r\n",
    ")\r\n",
    "\r\n",
    "# service_key = \"CE2F537EE2220B4651B0AF538C110F39\"\r\n",
    "\r\n",
    "endpoint = \"https://hackergroup9.search.windows.net\"\r\n",
    "key = \"CE2F537EE2220B4651B0AF538C110F39\"\r\n",
    "\r\n",
    "# Create a service client\r\n",
    "client = SearchIndexClient(endpoint, AzureKeyCredential(key))\r\n",
    "\r\n",
    "# Create the index\r\n",
    "name = \"travel\"\r\n",
    "fields = [\r\n",
    "        SimpleField(name=\"id\", type=SearchFieldDataType.String, key=True),\r\n",
    "        SearchableField(name=\"url\", type=SearchFieldDataType.String),\r\n",
    "        SimpleField(name=\"file_name\", type=SearchFieldDataType.String),\r\n",
    "        SearchableField(name=\"content\", type=SearchFieldDataType.String),\r\n",
    "        SimpleField(name=\"metadata_storage_name\", type=SearchFieldDataType.String),\r\n",
    "        SimpleField(name=\"metadata_storage_size\", type=SearchFieldDataType.String),\r\n",
    "        SimpleField(name=\"metadata_creation_date\", type=SearchFieldDataType.String)\r\n",
    "        ]\r\n",
    "cors_options = CorsOptions(allowed_origins=[\"*\"], max_age_in_seconds=60)\r\n",
    "scoring_profiles = []\r\n",
    "\r\n",
    "index = SearchIndex(\r\n",
    "    name=name,\r\n",
    "    fields=fields,\r\n",
    "    scoring_profiles=scoring_profiles,\r\n",
    "    cors_options=cors_options)\r\n",
    "\r\n",
    "result = client.create_index(index)"
   ],
   "outputs": [],
   "metadata": {}
  },
  {
   "cell_type": "code",
   "execution_count": null,
   "source": [
    "# POST https://[service name].search.windows.net/datasources?api-version=[api-version]\r\n",
    "\r\n",
    "header = {\r\n",
    "    'Content-Type': 'application/json',\r\n",
    "    'api-key': \"CE2F537EE2220B4651B0AF538C110F39\"\r\n",
    "    }\r\n",
    "\r\n",
    "body = {   \r\n",
    "    \"name\" : ,  \r\n",
    "    \"description\" : (optional) \"Anything you want, or nothing at all\",  \r\n",
    "    \"type\" : (required) \"Must be a supported data source\",\r\n",
    "    \"credentials\" : (required) { \"connectionString\" : \"Connection string for your data source\" },  \r\n",
    "    \"container\" : (required) { \"name\" : \"Name of the table, collection, or blob container you wish to index\" },  \r\n",
    "    \"dataChangeDetectionPolicy\" : (optional) {See below for details },\r\n",
    "    \"dataDeletionDetectionPolicy\" : (optional) {See below for details },\r\n",
    "    \"encryptionKey\":(optional) { }\r\n",
    "}  \r\n"
   ],
   "outputs": [],
   "metadata": {}
  },
  {
   "cell_type": "code",
   "execution_count": null,
   "source": [
    "POST https://[service name].search.windows.net/indexes?api-version=2020-06-30\r\n",
    "Content-Type: application/json\r\n",
    "api-key: [admin key]\r\n",
    "\r\n",
    "{\r\n",
    "      \"name\" : \"travel\",\r\n",
    "      \"fields\": [\r\n",
    "        { \"name\": \"id\", \"type\": \"Edm.String\", \"key\": True, \"searchable\": false },\r\n",
    "        { \"name\": \"content\", \"type\": \"Edm.String\", \"searchable\": true, \"filterable\": false, \"sortable\": false, \"facetable\": false }\r\n",
    "      ]\r\n",
    "}"
   ],
   "outputs": [],
   "metadata": {}
  },
  {
   "cell_type": "code",
   "execution_count": null,
   "source": [
    "import os\r\n",
    "from azure.core.credentials import AzureKeyCredential\r\n",
    "from azure.search.documents import SearchClient\r\n",
    "\r\n",
    "index_name = \"travel\"\r\n",
    "endpoint = \"https://hackergroup9.search.windows.net\"\r\n",
    "key = \"CE2F537EE2220B4651B0AF538C110F39\"\r\n",
    "\r\n",
    "DOCUMENT = {\r\n",
    "    'Category': 'Hotel',\r\n",
    "    'hotelId': '1000',\r\n",
    "    'rating': 4.0,\r\n",
    "    'rooms': [],\r\n",
    "    'hotelName': 'Azure Inn',\r\n",
    "}\r\n",
    "\r\n",
    "search_client = SearchClient(endpoint, index_name, AzureKeyCredential(key))\r\n",
    "\r\n",
    "result = search_client.upload_documents(documents=[DOCUMENT])\r\n",
    "\r\n",
    "print(\"Upload of new document succeeded: {}\".format(result[0].succeeded))"
   ],
   "outputs": [],
   "metadata": {}
  },
  {
   "cell_type": "code",
   "execution_count": 30,
   "source": [
    "result"
   ],
   "outputs": [
    {
     "output_type": "execute_result",
     "data": {
      "text/plain": [
       "<azure.search.documents.indexes.models._index.SearchIndex at 0x2e2e420c8b0>"
      ]
     },
     "metadata": {},
     "execution_count": 30
    }
   ],
   "metadata": {}
  }
 ],
 "metadata": {
  "orig_nbformat": 4,
  "language_info": {
   "name": "python",
   "version": "3.8.3",
   "mimetype": "text/x-python",
   "codemirror_mode": {
    "name": "ipython",
    "version": 3
   },
   "pygments_lexer": "ipython3",
   "nbconvert_exporter": "python",
   "file_extension": ".py"
  },
  "kernelspec": {
   "name": "python3",
   "display_name": "Python 3.8.3 64-bit ('base': conda)"
  },
  "interpreter": {
   "hash": "3479d0647baaefa200fb1c8500bab0ba17a823af8a47af740507d669053c012c"
  }
 },
 "nbformat": 4,
 "nbformat_minor": 2
}